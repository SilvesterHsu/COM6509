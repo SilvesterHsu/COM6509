{
 "cells": [
  {
   "cell_type": "markdown",
   "metadata": {},
   "source": [
    "# Objective Functions: A Simple Example with Matrix Factorisation.\n",
    "\n",
    "### Modified by Mauricio A Álvarez, October 2018, 2019\n",
    "\n",
    "### 6th October 2015 Neil D. Lawrence\n",
    "\n",
    "In last week's class we saw how we could load in a data set to pandas and use it for some simple data processing. We computed various probabilities on the data and I encouraged you to think about what sort of probabilities you need for prediction. This week we are going to take a slightly different tack. \n",
    "\n",
    "Broadly speaking there are two dominating approaches to machine learning problems. We started to consider the first approach last week: constructing models based on defining the relationship between variables using probabilities. This week we will consider the second approach: which involves defining an *objective function* and optimizing it. \n",
    "\n",
    "What do we mean by an objective function? An objective function could be an *error function*, a *cost function* or a *benefit* function. In evolutionary computing they are called *fitness* functions. But the idea is always the same. We write down a mathematical equation which is then optimized to do the learning. The equation should be a function of the *data* and our model *parameters*. We have a choice when optimizing, either minimize or maximize. To avoid confusion, in the optimization field, we always choose to minimize the function. If we have a function that we would like to maximize, we simply choose to minimize the negative of that function. \n",
    "\n",
    "So for this lab session, we are going to ignore probabilities, but don't worry, they will return! \n",
    "\n",
    "This week we are going to try and build a simple movie recommender system using an objective function. To do this, the first thing I'd like you to do is to install some software we've written for sharing information across google documents.\n",
    "\n",
    "## Open Data Science Software\n",
    "\n",
    "In Sheffield we have written a suite of software tools for 'Open Data Science'. Open data science is an approach to sharing code, models and data that should make it easier for companies, health professionals and scientists to gain access to data science techniques. For some background on open data science you can read [this blog post](http://inverseprobability.com/2014/07/01/open-data-science/). The first thing we will do this week is to download that suite of software. \n",
    "\n",
    "The software can be installed using\n",
    "\n",
    "```python\n",
    "pip install pods\n",
    "```\n",
    "\n",
    "from the command prompt where you can access your python installation.\n",
    "\n",
    "\n",
    "## Download the MovieLens 100k Data\n",
    "\n",
    "We are going to download the [MovieLens 100k](http://files.grouplens.org/datasets/movielens/ml-latest-small-README.html) Data. This is a public dataset that contains 100,000 ratings and 3,600 tag applications applied to 9,000 movies by 600 users. When you use a data set that someone has prepared you should always reference the data source to acknowledge the work that's been placed in. This particular dataset was collected by the [Grouplens Research group](https://grouplens.org/),  at the University of Minnesota. For example, if you were to use this dataset for writing a paper, the authors ask you that you acknowledge their work by citing the following paper:\n",
    "\n",
    "F. Maxwell Harper and Joseph A. Konstan. 2015. The MovieLens Datasets: History and Context. ACM Transactions on Interactive Intelligent Systems (TiiS) 5 (4):1-19 [https://doi.org/10.1145/2827872](https://doi.org/10.1145/2827872)"
   ]
  },
  {
   "cell_type": "code",
   "execution_count": 2,
   "metadata": {
    "ExecuteTime": {
     "end_time": "2019-11-03T23:22:50.903956Z",
     "start_time": "2019-11-03T23:22:50.369866Z"
    }
   },
   "outputs": [],
   "source": [
    "import pods\n",
    "import zipfile\n",
    "import pandas as pd\n",
    "import numpy as np\n",
    "import os\n",
    "\n",
    "if 'ml-latest-small.zip' not in os.listdir():\n",
    "    pods.util.download_url(\"http://files.grouplens.org/datasets/movielens/ml-latest-small.zip\")\n",
    "    zip_console = zipfile.ZipFile('ml-latest-small.zip', 'r')\n",
    "    for name in zip_console.namelist():\n",
    "               zip_console.extract(name, './')"
   ]
  },
  {
   "cell_type": "markdown",
   "metadata": {},
   "source": [
    "### Question 1\n",
    "\n",
    "Data ethics. If you find data available on the internet, can you simply use it without consequence? If you are given data by a fellow researcher can you publish that data on line? "
   ]
  },
  {
   "cell_type": "markdown",
   "metadata": {},
   "source": [
    "#### Question 1 Answer\n",
    "\n",
    "No, the reliability of the data should be considered before using the data.\n",
    "\n",
    "No, the researcher has copyright to the data and cannot publish the data at will."
   ]
  },
  {
   "cell_type": "markdown",
   "metadata": {},
   "source": [
    "## Recommender Systems\n",
    "\n",
    "A recommender system aims to make suggestions for items (films, books, other commercial products) given what it knows about users' tastes. The recommendation engine needs to represent the *taste* of all the users and the *characteristics* of each object. \n",
    "\n",
    "A common way for organizing objects is to place related objects spatially close together. For example in a library we try and put books that are on related topics near to each other on the shelves. One system for doing this is known as [Dewey Decimal Classification](http://en.wikipedia.org/wiki/Dewey_Decimal_Classification). In the Dewey Decimal Classification system (which dates from 1876) each subject is given a number (in fact it's a decimal number). For example, the field of Natural Sciences and Mathematics is given numbers which start with 500. Subjects based on Computer Science are given numbers which start 004 and works on the 'mathematical principles' of Computer science are given the series 004.0151 (which we might store as 4.0151 on a Computer). Whilst it's a classification system, the books in the library are typically laid out in the same order as the numbers, so we might expect that neighbouring numbers represent books that are related in subject. That seems to be exactly what we want when also representing films. Could we somehow represent each film's subject according to a number? In a similar way we could then imagine representing users with a list of numbers that represent things that each user is interested in.\n",
    "\n",
    "Actually a one dimensional representation of a subject can be very awkward. To see this, let's have a look at the Dewey Decimal Classification numbers for the 900s, which is listed as 'History and Geography'. We will focus on subjects in the 940s which can be found in this list from [Wikipedia](https://en.wikipedia.org/wiki/List_of_Dewey_Decimal_classes#Class_900_%E2%80%93_History_&_geography). Whilst the ordering for places is somewhat sensible, it is also rather arbitrary. In the 940s we have Europe listed from 940-949, Asia listed from 950-959 and Africa listed from 960-969. Whilst it's true that Asia borders Europe, Africa is also very close, and the history of the Roman Empire spreads into [Carthage](http://en.wikipedia.org/wiki/Carthage) and later on Egypt. This image from Wikipedia shows a map of the Cathaginian Empire which fell after fighting with Rome. \n",
    "\n",
    "\n",
    "<a title=\"By Javierfv1212 [Public domain], from Wikimedia Commons\" href=\"https://commons.wikimedia.org/wiki/File:Carthaginianempire.PNG\"><img width=\"512\" alt=\"Carthaginianempire\" src=\"https://upload.wikimedia.org/wikipedia/commons/thumb/9/9b/Carthaginianempire.PNG/512px-Carthaginianempire.PNG\"></a>\n",
    "\n",
    "We now need to make a decision about whether Roman Histories are European or African, ideally we'd like them to be somewhere between the two, but we can't place them there in the Dewey Decimal system because between Europe and Africa is Asia, which has less to do with the Roman Empire than either Europe or Africa. Of course the fact that we've used a map provides a clue as to what to do next. Libraries are actually laid out on floors, so what if we were to use the spatial lay out to organise the sujbects of the books in two dimensions. Books on Geography could be laid out according to where in the world they are referring to. \n",
    "\n",
    "Such complexities are very hard to encapsulate in one number, but inspired by the map examples we can start considering how we might lay out films in two dimensions. Similarly, we can consider laying out a map of people's interests. If the two maps correspond to one another, the map of people could reflect where they might want to live in 'subject space'. We can think of representing people's tastes as where they might best like to sit in the library to access easily the books they are most interested in.\n",
    "\n",
    "\n",
    "## Inner Products for Representing Similarity\n",
    "\n",
    "Ideas like the above are good for gaining intuitions about what we might want, but the one of the skills of data science is representing those ideas mathematically. Mathematical abstraction of a problem is one of the key ways in which we've been able to progress as a society. Understanding planetary motions, as well as those of the smallest molecule (to quote Laplace's [Philosophical Essay on Probabilities](http://books.google.co.uk/books?id=1YQPAAAAQAAJ&printsec=frontcover&source=gbs_ge_summary_r&cad=0#v=onepage&q&f=false)) needed to be done mathematically. The right mathematical model in machine learning can be slightly more elusive, because constructing it is a two stage process. \n",
    "\n",
    "1. We have to determine the right intuition for the system we want to represent. Notions such as 'subject' and 'interest' are not mathematically well defined, and even when we create a new interpretation of what they might mean, each interpretation may have its own weaknesses. \n",
    "\n",
    "2. Once we have our interpretation we can attempt to mathematically formalize it. In our library interpretation, that's what we need to do next. \n",
    "\n",
    "### The Library on an Infinite Plane\n",
    "\n",
    "Let's imagine a library which stores all the items  we are interested in, not just books, but films and shopping items too. Such a library is likely to be very large, so we'll create it on an infinite two dimensional plane. This means we can use all the real numbers to represent the location of each item on the plane. For a two dimensional plane, we need to store the locations in a vector of numbers: we can decide that the $j$th item's location in the library is given by \n",
    "$$\n",
    "\\mathbf{v}_j = \\begin{bmatrix} v_{j,1} \\\\ v_{j,2}\\end{bmatrix},\n",
    "$$\n",
    "where $v_{j,1}$ represents the $j$th item's location in the East-West direction (or the $x$-axis) and $v_{j,2}$ represents the $j$th item's location in the North-South direction (or the $y$-axis). Now we need to specify the location where each user sits so that all the items that interest them are nearby: we can also represent the $i$th user's location with a vector \n",
    "$$\n",
    "\\mathbf{u}_i = \\begin{bmatrix} u_{i,1} \\\\ u_{i,2}\\end{bmatrix}.\n",
    "$$\n",
    "Finally, we need some way of recording a given user's affinity for a given item. This affinity might be the rating that the user gives the film. We can use $y_{i,j}$ to represent user $i$'s affinity for item $j$. \n",
    "\n",
    "For our film example we might imagine wanting to order films in a few ways. We could imagine organising films in the North-South direction as to how romantic they are. We could place the more romantic films further North and the less romantic films further South. For the East-West direction we could imagine ordering them according to how historic they are: we can imagine placing science fiction films to the East and historical drama to the West. In this case, fans of historical romances would be based in the North-West location, whilst fans of Science Fiction Action films might be located in the South-East (if we assume that 'Action' is the opposite of 'Romance', which is not necessarily the case). How do we lay out all these films? Have we got the right axes? In machine learning the answer is to 'let the data speak'. Use the data to try and obtain such a lay out. To do this we first need to obtain the data."
   ]
  },
  {
   "cell_type": "markdown",
   "metadata": {},
   "source": [
    "## Obtaining the Data\n",
    "\n",
    "As mentioned before, the MovieLens dataset that we'll use has 100,000 ratings to 9,000 movies by 600 users. For now, we will only work with a subset of the dataset. In particular, we will randomly chose a particular number of users and extract the movies and ratings that the users gave to those movies. Read the code below and understand what it is doing.\n",
    "\n",
    "**Before you run the code**, notice that `YourStudentID` in the first line is a variable that will specify the seed for the random number generator that will select a particular set of `nUsersInExample` users. Change the number that has been assigned by default to `YourStudentID` to the last three digits of your UCard number. All of you will have a different subset of users."
   ]
  },
  {
   "cell_type": "code",
   "execution_count": 3,
   "metadata": {
    "ExecuteTime": {
     "end_time": "2019-11-03T23:22:54.271552Z",
     "start_time": "2019-11-03T23:22:54.216168Z"
    }
   },
   "outputs": [],
   "source": [
    "YourStudentID = 410  # Include here the last three digits of your UCard number\n",
    "nUsersInExample = 10 # The maximum number of Users we're going to analyse at one time\n",
    "\n",
    "ratings = pd.read_csv(\"./ml-latest-small/ratings.csv\") \n",
    "\"\"\"\n",
    "ratings is a DataFrame with four columns: userId, movieId, rating and tags. We\n",
    "first want to identify how many unique users there are. We can use the unique \n",
    "method in pandas\n",
    "\"\"\"\n",
    "indexes_unique_users = ratings['userId'].unique()\n",
    "n_users = indexes_unique_users.shape[0]\n",
    "\"\"\" \n",
    "We randomly select 'nUsers' users with their ratings. We first fix the seed\n",
    "of the random generator to make sure that we always get the same 'nUsers'\n",
    "\"\"\"\n",
    "np.random.seed(YourStudentID)\n",
    "indexes_users = np.random.permutation(n_users)\n",
    "my_batch_users = indexes_users[0:nUsersInExample]\n",
    "\"\"\"\n",
    "We will use now the list of 'my_batch_users' to create a matrix Y. \n",
    "\"\"\"\n",
    "# We need to make a list of the movies that these users have watched\n",
    "list_movies_each_user = [[] for _ in range(nUsersInExample)]\n",
    "list_ratings_each_user = [[] for _ in range(nUsersInExample)]\n",
    "# Movies\n",
    "list_movies = ratings['movieId'][ratings['userId'] == my_batch_users[0]].values\n",
    "list_movies_each_user[0] = list_movies                    \n",
    "# Ratings                      \n",
    "list_ratings = ratings['rating'][ratings['userId'] == my_batch_users[0]].values\n",
    "list_ratings_each_user[0] = list_ratings\n",
    "# Users\n",
    "n_each_user = list_movies.shape[0]\n",
    "list_users = my_batch_users[0]*np.ones((1, n_each_user))\n",
    "\n",
    "for i in range(1, nUsersInExample):\n",
    "    # Movies\n",
    "    local_list_per_user_movies = ratings['movieId'][ratings['userId'] == my_batch_users[i]].values\n",
    "    list_movies_each_user[i] = local_list_per_user_movies\n",
    "    list_movies = np.append(list_movies,local_list_per_user_movies)\n",
    "    # Ratings                                 \n",
    "    local_list_per_user_ratings = ratings['rating'][ratings['userId'] == my_batch_users[i]].values\n",
    "    list_ratings_each_user[i] = local_list_per_user_ratings\n",
    "    list_ratings = np.append(list_ratings, local_list_per_user_ratings)  \n",
    "    # Users                                   \n",
    "    n_each_user = local_list_per_user_movies.shape[0]                                                                               \n",
    "    local_rep_user =  my_batch_users[i]*np.ones((1, n_each_user))    \n",
    "    list_users = np.append(list_users, local_rep_user)\n",
    "\n",
    "# Let us first see how many unique movies have been rated\n",
    "indexes_unique_movies = np.unique(list_movies)\n",
    "n_movies = indexes_unique_movies.shape[0]\n",
    "# As it is expected no all users have rated all movies. We will build a matrix Y \n",
    "# with NaN inputs and fill according to the data for each user \n",
    "temp = np.empty((n_movies,nUsersInExample,))\n",
    "temp[:] = np.nan\n",
    "Y_with_NaNs = pd.DataFrame(temp)\n",
    "for i in range(nUsersInExample):\n",
    " local_movies = list_movies_each_user[i]\n",
    " ixs = np.in1d(indexes_unique_movies, local_movies)\n",
    " Y_with_NaNs.loc[ixs, i] = list_ratings_each_user[i]\n",
    "\n",
    "Y_with_NaNs.index = indexes_unique_movies.tolist()\n",
    "Y_with_NaNs.columns = my_batch_users.tolist()"
   ]
  },
  {
   "cell_type": "markdown",
   "metadata": {},
   "source": [
    "### Question 2\n",
    "\n",
    "Have a look at the matrix `Y_with_NaNs`. The movies data is now in a data frame which contains one column for each user rating the movie. There are some entries that contain 'NaN'. What does the 'NaN' mean in this context?"
   ]
  },
  {
   "cell_type": "markdown",
   "metadata": {},
   "source": [
    "#### Answer Question 2\n",
    "\n",
    "NaN indicates data vacancies."
   ]
  },
  {
   "cell_type": "markdown",
   "metadata": {},
   "source": [
    "Now we will convert our data structure into a form that is appropriate for processing. We will convert the `Y_with_NaNs` dataframe into a new dataframe which contains the user, the movie, and the rating using the following code"
   ]
  },
  {
   "cell_type": "code",
   "execution_count": 4,
   "metadata": {
    "ExecuteTime": {
     "end_time": "2019-11-03T23:22:56.054812Z",
     "start_time": "2019-11-03T23:22:56.048046Z"
    }
   },
   "outputs": [],
   "source": [
    "p_list_ratings = np.concatenate(list_ratings_each_user).ravel()\n",
    "p_list_ratings_original = p_list_ratings.tolist()\n",
    "mean_ratings_train = np.mean(p_list_ratings)\n",
    "p_list_ratings =  p_list_ratings - mean_ratings_train # remove the mean\n",
    "p_list_movies = np.concatenate(list_movies_each_user).ravel().tolist()\n",
    "p_list_users = list_users.tolist()\n",
    "Y = pd.DataFrame({'users': p_list_users, 'movies': p_list_movies, 'ratingsorig': p_list_ratings_original,'ratings':p_list_ratings.tolist()})"
   ]
  },
  {
   "cell_type": "markdown",
   "metadata": {},
   "source": [
    "### Question 3\n",
    "\n",
    "The dataframes `Y_with_NaNs` and `Y` contain the same information but organised in a different way. Explain what is the difference. We have also included two columns for ratings in dataframe `Y`, `ratingsorig` and `ratings`. Explain\n",
    "the difference. "
   ]
  },
  {
   "cell_type": "markdown",
   "metadata": {},
   "source": [
    "#### Question 3 Answer\n",
    "\n",
    "`Y_with_NaNs` is a matrix of user and movie; `Y` is a list, and each column is a feature.\n",
    "\n",
    "The main difference between `ratings` and `ratingsorig` is whether to subtract the mean, and subtracting the mean is more conducive to calculation."
   ]
  },
  {
   "cell_type": "markdown",
   "metadata": {},
   "source": [
    "## Measuring Similarity\n",
    "\n",
    "We now need a measure for determining the similarity between the item and the user: how close the user is sitting to the item in the room if you like. We are going to use the inner product between the vector representing the item and the vector representing the user. \n",
    "\n",
    "An inner product (or [dot product](http://en.wikipedia.org/wiki/Dot_product)) between two vectors $\\mathbf{a}$ and $\\mathbf{b}$ is written as $\\mathbf{a}\\cdot\\mathbf{b}$. Or in vector notation we sometimes write it as $\\mathbf{a}^\\top\\mathbf{b}$. An inner product is simply the sum of the products of each element of the vector,\n",
    "$$\n",
    "\\mathbf{a}^\\top\\mathbf{b} = \\sum_{i} a_i b_i\n",
    "$$\n",
    "The inner product can be seen as a measure of similarity. The inner product gives us the cosine of the angle between the two vectors multiplied by their length. The smaller the angle between two vectors the larger the inner product. \n",
    "$$\n",
    "\\mathbf{a}^\\top\\mathbf{b} = |\\mathbf{a}||\\mathbf{b}| \\cos(\\theta)\n",
    "$$\n",
    "where $\\theta$ is the angle between two vectors and $|\\mathbf{a}|$ and $|\\mathbf{b}|$ are the respective lengths of the two vectors.\n",
    "\n",
    "Since we want each user to be sitting near each item, then we want the inner product to be large for any two items which are rated highly by that user. We can do this by trying to force the inner product $\\mathbf{u}_i^\\top\\mathbf{v}_j$ to be similar to the rating given by the user, $y_{i,j}$. To ensure this we will use a least squares objective function for all user ratings."
   ]
  },
  {
   "cell_type": "markdown",
   "metadata": {},
   "source": [
    "## Objective Function\n",
    "\n",
    "The error function (or objective function, or cost function) we will choose is known as 'sum of squares', we will aim to minimize the sum of squared squared error between the inner product of $\\mathbf{u}_i$ and $\\mathbf{v}_i$ and the observed score for the user/item pairing, given by $y_{i, j}$. \n",
    "\n",
    "The total objective function can be written as\n",
    "$$\n",
    "E(\\mathbf{U}, \\mathbf{V}) = \\sum_{i,j} s_{i,j} (y_{i,j} - \\mathbf{u}_i^\\top \\mathbf{v}_j)^2\n",
    "$$\n",
    "where $s_{i,j}$ is an *indicator* variable that is 1 if user $i$ has rated item $j$ and is zero otherwise. Here $\\mathbf{U}$ is the matrix made up of all the vectors $\\mathbf{u}$,\n",
    "$$\n",
    "\\mathbf{U} = \\begin{bmatrix} \\mathbf{u}_1 \\dots \\mathbf{u}_n\\end{bmatrix}^\\top\n",
    "$$\n",
    "where we note that $i$th *row* of $\\mathbf{U}$ contains the vector associated with the $i$th user and $n$ is the total number of users. This form of matrix is known as a *design matrix*. Similarly, we define the matrix\n",
    "$$\n",
    "\\mathbf{V} = \\begin{bmatrix} \\mathbf{v}_1 \\dots \\mathbf{v}_m\\end{bmatrix}^\\top\n",
    "$$\n",
    "where again the $j$th row of $\\mathbf{V}$ contains the vector associated with the $j$th item and $m$ is the total number of items in the data set.\n",
    "\n",
    "## Objective Optimization\n",
    "\n",
    "The idea is to mimimize this objective. A standard, simple, technique for minimizing an objective is *gradient descent* or *steepest descent*. In gradient descent we simply choose to update each parameter in the model by subtracting a multiple of the objective function's gradient with respect to the parameters. So for a parameter $u_{i,j}$ from the matrix $\\mathbf{U}$ we would have an update as follows:\n",
    "$$\n",
    "u_{k,\\ell} \\leftarrow u_{k,\\ell} - \\eta \\frac{\\text{d} E(\\mathbf{U}, \\mathbf{V})}{\\text{d}u_{k,\\ell}} \n",
    "$$\n",
    "where $\\eta$ (which is pronounced *eta* in English) is a Greek letter representing the *learning rate*.  \n",
    "\n",
    "We can compute the gradient of the objective function with respect to $u_{k,\\ell}$ as\n",
    "$$\n",
    "\\frac{\\text{d}E(\\mathbf{U}, \\mathbf{V})}{\\text{d}u_{k,\\ell}} = -2 \\sum_j s_{k,j}v_{j,\\ell}(y_{k, j} - \\mathbf{u}_k^\\top\\mathbf{v}_{j}). \n",
    "$$\n",
    "Similarly each parameter $v_{i,j}$ needs to be updated according to its gradient. \n"
   ]
  },
  {
   "cell_type": "markdown",
   "metadata": {},
   "source": [
    "### Question 4\n",
    "\n",
    "What is the gradient of the objective function with respect to $v_{k, \\ell}$? Write your answer in the box below, and explain which differentiation techniques you used to get there. "
   ]
  },
  {
   "cell_type": "markdown",
   "metadata": {},
   "source": [
    "#### Question 4 Answer\n",
    "\n",
    "$$\n",
    "\\frac{\\text{d}E(\\mathbf{U}, \\mathbf{V})}{\\text{d}v_{k,\\ell}} = -2 \\sum_i s_{i,k}u_{i,\\ell}(y_{i, k} - \\mathbf{u}_i^\\top\\mathbf{v}_{k})\n",
    "$$\n",
    "\n",
    "![lab2-01.jpg](https://tva1.sinaimg.cn/large/006y8mN6gy1g8lewmu3tdj30sg0r9juu.jpg)"
   ]
  },
  {
   "cell_type": "code",
   "execution_count": null,
   "metadata": {},
   "outputs": [],
   "source": [
    "# Question 4 Code Answer"
   ]
  },
  {
   "cell_type": "markdown",
   "metadata": {},
   "source": [
    "## Steepest Descent Algorithm\n",
    "\n",
    "In the steepest descent algorithm we aim to minimize the objective function by subtacting the gradient of the objective function from the parameters. \n",
    "\n",
    "### Initialisation\n",
    "\n",
    "To start with though, we need initial values for the matrix $\\mathbf{U}$ and the matrix $\\mathbf{V}$. Let's create them as `pandas` data frames and initialise them randomly with small values."
   ]
  },
  {
   "cell_type": "code",
   "execution_count": 5,
   "metadata": {
    "ExecuteTime": {
     "end_time": "2019-11-03T23:23:00.924204Z",
     "start_time": "2019-11-03T23:23:00.918700Z"
    }
   },
   "outputs": [],
   "source": [
    "q = 2 # the dimension of our map of the 'library'\n",
    "learn_rate = 0.01\n",
    "U = pd.DataFrame(np.random.normal(size=(nUsersInExample, q))*0.001, index=my_batch_users)\n",
    "V = pd.DataFrame(np.random.normal(size=(n_movies, q))*0.001, index=indexes_unique_movies)"
   ]
  },
  {
   "cell_type": "markdown",
   "metadata": {},
   "source": [
    "Now that we have the initial values set, we can start the optimization. First we define a function for the gradient of the objective and the objective function itself."
   ]
  },
  {
   "cell_type": "code",
   "execution_count": 6,
   "metadata": {
    "ExecuteTime": {
     "end_time": "2019-11-03T23:23:03.070956Z",
     "start_time": "2019-11-03T23:23:03.064483Z"
    }
   },
   "outputs": [],
   "source": [
    "def objective_gradient(Y, U, V):\n",
    "    gU = pd.DataFrame(np.zeros((U.shape)), index=U.index)\n",
    "    gV = pd.DataFrame(np.zeros((V.shape)), index=V.index)\n",
    "    obj = 0.\n",
    "    nrows = Y.shape[0]\n",
    "    for i in range(nrows):\n",
    "        row = Y.iloc[i]\n",
    "        user = row['users']\n",
    "        film = row['movies']\n",
    "        rating = row['ratings']\n",
    "        prediction = np.dot(U.loc[user], V.loc[film]) # vTu\n",
    "        diff = prediction - rating # vTu - y\n",
    "        obj += diff*diff\n",
    "        gU.loc[user] += 2*diff*V.loc[film]\n",
    "        gV.loc[film] += 2*diff*U.loc[user]\n",
    "    return obj, gU, gV"
   ]
  },
  {
   "cell_type": "markdown",
   "metadata": {},
   "source": [
    "Now we can write our simple optimisation route. This allows us to observe the objective function as the optimization proceeds."
   ]
  },
  {
   "cell_type": "code",
   "execution_count": 7,
   "metadata": {
    "ExecuteTime": {
     "end_time": "2019-11-03T23:24:30.067605Z",
     "start_time": "2019-11-03T23:23:05.066241Z"
    }
   },
   "outputs": [
    {
     "name": "stdout",
     "output_type": "stream",
     "text": [
      "Iteration 0 Objective function:  1775.6506680531763\n",
      "Iteration 1 Objective function:  1775.6504839236277\n",
      "Iteration 2 Objective function:  1775.6502196313554\n",
      "Iteration 3 Objective function:  1775.649671254258\n",
      "Iteration 4 Objective function:  1775.6484168368133\n",
      "Iteration 5 Objective function:  1775.6454474899083\n",
      "Iteration 6 Objective function:  1775.638309820897\n",
      "Iteration 7 Objective function:  1775.621017086761\n",
      "Iteration 8 Objective function:  1775.578939891359\n",
      "Iteration 9 Objective function:  1775.4763033861263\n",
      "Iteration 10 Objective function:  1775.225599907411\n",
      "Iteration 11 Objective function:  1774.6128402881243\n",
      "Iteration 12 Objective function:  1773.1154240219892\n",
      "Iteration 13 Objective function:  1769.4616791718715\n",
      "Iteration 14 Objective function:  1760.585519035654\n",
      "Iteration 15 Objective function:  1739.2627214165286\n",
      "Iteration 16 Objective function:  1689.4383684330594\n",
      "Iteration 17 Objective function:  1580.6159178225248\n",
      "Iteration 18 Objective function:  1378.5870687742906\n",
      "Iteration 19 Objective function:  1122.3468408119852\n"
     ]
    }
   ],
   "source": [
    "iterations = 20\n",
    "for i in range(iterations):\n",
    "    obj, gU, gV = objective_gradient(Y, U, V)\n",
    "    print(\"Iteration\", i, \"Objective function: \", obj)\n",
    "    U -= learn_rate*gU\n",
    "    V -= learn_rate*gV    "
   ]
  },
  {
   "cell_type": "markdown",
   "metadata": {},
   "source": [
    "### Question 5\n",
    "\n",
    "What happens as you increase the number of iterations? What happens if you increase the learning rate?"
   ]
  },
  {
   "cell_type": "markdown",
   "metadata": {},
   "source": [
    "#### Question 5 Answer\n",
    "\n",
    "After increasing the number of iterations, the MSE drops to a lower point (there may be an overfitting problem).\n",
    "\n",
    "After increasing the learning rate, the gradient drops faster, but the MSE may not converge."
   ]
  },
  {
   "cell_type": "code",
   "execution_count": 41,
   "metadata": {
    "ExecuteTime": {
     "end_time": "2019-11-03T18:37:28.063454Z",
     "start_time": "2019-11-03T18:33:52.032179Z"
    }
   },
   "outputs": [
    {
     "name": "stdout",
     "output_type": "stream",
     "text": [
      "Iteration 0 Objective function:  1775.650560600079\n",
      "Iteration 1 Objective function:  1775.650385658944\n",
      "Iteration 2 Objective function:  1775.6501734166898\n",
      "Iteration 3 Objective function:  1775.6498367566653\n",
      "Iteration 4 Objective function:  1775.6492347290205\n",
      "Iteration 5 Objective function:  1775.6480809927252\n",
      "Iteration 6 Objective function:  1775.6457496324942\n",
      "Iteration 7 Objective function:  1775.6408245241705\n",
      "Iteration 8 Objective function:  1775.6300291267899\n",
      "Iteration 9 Objective function:  1775.6056592663688\n",
      "Iteration 10 Objective function:  1775.5493870824432\n",
      "Iteration 11 Objective function:  1775.417246066446\n",
      "Iteration 12 Objective function:  1775.1031565562807\n",
      "Iteration 13 Objective function:  1774.3502598836299\n",
      "Iteration 14 Objective function:  1772.535818589364\n",
      "Iteration 15 Objective function:  1768.1533977556473\n",
      "Iteration 16 Objective function:  1757.5924877981345\n",
      "Iteration 17 Objective function:  1732.4201319207461\n",
      "Iteration 18 Objective function:  1674.2303808346855\n",
      "Iteration 19 Objective function:  1549.6966063837351\n",
      "Iteration 20 Objective function:  1328.5516290258724\n",
      "Iteration 21 Objective function:  1073.9803082989094\n",
      "Iteration 22 Objective function:  956.456594526699\n",
      "Iteration 23 Objective function:  933.196302024578\n",
      "Iteration 24 Objective function:  904.3383951313948\n",
      "Iteration 25 Objective function:  858.1685665493579\n",
      "Iteration 26 Objective function:  786.4674365916399\n",
      "Iteration 27 Objective function:  682.9358559877394\n",
      "Iteration 28 Objective function:  553.6768261837805\n",
      "Iteration 29 Objective function:  429.9277520305877\n",
      "Iteration 30 Objective function:  351.48414943320387\n",
      "Iteration 31 Objective function:  317.84142187020444\n",
      "Iteration 32 Objective function:  300.4993715297855\n",
      "Iteration 33 Objective function:  285.9750253233815\n",
      "Iteration 34 Objective function:  271.87282776347627\n",
      "Iteration 35 Objective function:  258.09455497090283\n",
      "Iteration 36 Objective function:  244.9926239289602\n",
      "Iteration 37 Objective function:  232.9339526094608\n",
      "Iteration 38 Objective function:  222.12216785840212\n",
      "Iteration 39 Objective function:  212.56055451465994\n",
      "Iteration 40 Objective function:  204.1093663360709\n",
      "Iteration 41 Objective function:  196.5749588638665\n",
      "Iteration 42 Objective function:  189.7779064977823\n",
      "Iteration 43 Objective function:  183.5820601920816\n",
      "Iteration 44 Objective function:  177.89420406347475\n",
      "Iteration 45 Objective function:  172.65107250231463\n",
      "Iteration 46 Objective function:  167.8053176015013\n",
      "Iteration 47 Objective function:  163.31532009375815\n",
      "Iteration 48 Objective function:  159.13965207661323\n",
      "Iteration 49 Objective function:  155.23527993446143\n"
     ]
    }
   ],
   "source": [
    "# Increase the number of iterations\n",
    "q = 2 # the dimension of our map of the 'library'\n",
    "learn_rate = 0.01\n",
    "U = pd.DataFrame(np.random.normal(size=(nUsersInExample, q))*0.001, index=my_batch_users)\n",
    "V = pd.DataFrame(np.random.normal(size=(n_movies, q))*0.001, index=indexes_unique_movies)\n",
    "\n",
    "iterations = 50\n",
    "for i in range(iterations):\n",
    "    obj, gU, gV = objective_gradient(Y, U, V)\n",
    "    print(\"Iteration\", i, \"Objective function: \", obj)\n",
    "    U -= learn_rate*gU\n",
    "    V -= learn_rate*gV    "
   ]
  },
  {
   "cell_type": "code",
   "execution_count": 42,
   "metadata": {
    "ExecuteTime": {
     "end_time": "2019-11-03T18:38:54.801092Z",
     "start_time": "2019-11-03T18:37:28.441606Z"
    }
   },
   "outputs": [
    {
     "name": "stdout",
     "output_type": "stream",
     "text": [
      "Iteration 0 Objective function:  1775.6506467626507\n",
      "Iteration 1 Objective function:  1775.6494534538176\n",
      "Iteration 2 Objective function:  1775.6216495496803\n",
      "Iteration 3 Objective function:  1774.878999118018\n",
      "Iteration 4 Objective function:  1754.2867084419547\n",
      "Iteration 5 Objective function:  1398.2497907425827\n",
      "Iteration 6 Objective function:  5030.221456822398\n",
      "Iteration 7 Objective function:  127723816.00524646\n",
      "Iteration 8 Objective function:  3.2524520634221236e+21\n",
      "Iteration 9 Objective function:  5.448231323924231e+61\n",
      "Iteration 10 Objective function:  2.5738424895866792e+182\n"
     ]
    },
    {
     "name": "stderr",
     "output_type": "stream",
     "text": [
      "/opt/conda/lib/python3.7/site-packages/ipykernel_launcher.py:13: RuntimeWarning: overflow encountered in double_scalars\n",
      "  del sys.path[0]\n"
     ]
    },
    {
     "name": "stdout",
     "output_type": "stream",
     "text": [
      "Iteration 11 Objective function:  inf\n",
      "Iteration 12 Objective function:  inf\n",
      "Iteration 13 Objective function:  nan\n",
      "Iteration 14 Objective function:  nan\n",
      "Iteration 15 Objective function:  nan\n",
      "Iteration 16 Objective function:  nan\n",
      "Iteration 17 Objective function:  nan\n",
      "Iteration 18 Objective function:  nan\n",
      "Iteration 19 Objective function:  nan\n"
     ]
    }
   ],
   "source": [
    "# Increase the learning rate\n",
    "q = 2 # the dimension of our map of the 'library'\n",
    "learn_rate = 0.1\n",
    "U = pd.DataFrame(np.random.normal(size=(nUsersInExample, q))*0.001, index=my_batch_users)\n",
    "V = pd.DataFrame(np.random.normal(size=(n_movies, q))*0.001, index=indexes_unique_movies)\n",
    "\n",
    "iterations = 20\n",
    "for i in range(iterations):\n",
    "    obj, gU, gV = objective_gradient(Y, U, V)\n",
    "    print(\"Iteration\", i, \"Objective function: \", obj)\n",
    "    U -= learn_rate*gU\n",
    "    V -= learn_rate*gV  "
   ]
  },
  {
   "cell_type": "markdown",
   "metadata": {},
   "source": [
    "## Making Predictions\n",
    "\n",
    "Predictions can be made from the model of the appropriate rating for a given user, $i$, for a given film, $j$, by simply taking the inner product between their vectors $\\mathbf{u}_i$ and $\\mathbf{v}_j$. "
   ]
  },
  {
   "cell_type": "markdown",
   "metadata": {},
   "source": [
    "### Question 6\n",
    "\n",
    "Create a function that provides the prediction of the ratings for the users in the dataset. Is the quality of the predictions affected by the number of iterations or the learning rate? The function should receive `Y`, `U` and `V` and return the predictions and the absolute error between the predictions and the actual rating given by the users. The predictions and the absolute error should be added as additional columns to the dataframe `Y`."
   ]
  },
  {
   "cell_type": "code",
   "execution_count": 14,
   "metadata": {
    "ExecuteTime": {
     "end_time": "2019-11-03T23:26:22.847100Z",
     "start_time": "2019-11-03T23:26:22.836496Z"
    }
   },
   "outputs": [],
   "source": [
    "def Prediction(U, V, Y):\n",
    "    Y_without_NaNs = pd.DataFrame(data=np.dot(\n",
    "        U, V.T).T + Y['ratingsorig'].mean(), columns=Y_with_NaNs.columns, index=Y_with_NaNs.index)\n",
    "    diff = Y_without_NaNs - Y_with_NaNs\n",
    "    total = diff.fillna(value=0).apply(abs).sum().sum()\n",
    "    return Y_without_NaNs, total\n",
    "\n",
    "prediction, loss = Prediction(U, V, Y)"
   ]
  },
  {
   "cell_type": "markdown",
   "metadata": {},
   "source": [
    "## Stochastic Gradient Descent or Robbins Monroe Algorithm\n",
    "\n",
    "Stochastic gradient descent involves updating separating each gradient update according to each separate observation, rather than summing over them all. It is an approximate optimization method, but it has proven convergence under certain conditions and can be much faster in practice. It is used widely by internet companies for doing machine learning in practice. For example, Facebook's ad ranking algorithm uses stochastic gradient descent. "
   ]
  },
  {
   "cell_type": "markdown",
   "metadata": {},
   "source": [
    "### Question 7\n",
    "\n",
    "Create a stochastic gradient descent version of the algorithm. Monitor the objective function after every 1000 updates to ensure that it is decreasing. When you have finished, plot the movie map and the user map in two dimensions (you can use the columns of the matrices $\\mathbf{U}$ for the user map and the columns of $\\mathbf{V}$ for the movie map). Provide three observations about these maps."
   ]
  },
  {
   "cell_type": "code",
   "execution_count": null,
   "metadata": {},
   "outputs": [],
   "source": [
    "# Question 7 Code Answer"
   ]
  },
  {
   "cell_type": "markdown",
   "metadata": {},
   "source": [
    "## Is Our Map Enough? Are Our Data Enough?\n",
    "\n",
    "Is two dimensions really enough to capture the complexity of humans and their artforms? Perhaps we need even more dimensions to capture that complexity. Extending our books analogy further, consider how we should place books that have a historical timeframe as well as some geographical location. Do we really want books from the 2nd World War to sit alongside books from the Roman Empire? Books on the American invasion of Sicily in 1943 are perhaps less related to books about Carthage than those that study the Jewish Revolt from 66-70 (in the Roman Province of Judaea). So books that relate to subjects which are closer in time should be stored together. However, a student of rebellion against empire may also be interested in the relationship between the Jewish Revolt of 66-70 and the Indian Rebellion of 1857, nearly 1800 years later. Whilst the technologies are different, the psychology of the people is shared: a rebellious nation angainst their imperial masters, triggered by misrule with a religious and cultural background. To capture such complexities we would need further dimensions in our latent representation. But are further dimensions justified by the amount of data we have? Can we really understand the facets of a film that only has at most three or four ratings?"
   ]
  },
  {
   "cell_type": "markdown",
   "metadata": {},
   "source": [
    "## Going Further\n",
    "\n",
    "If you want to take this model further then you'll need more data. You can use again the MovieLens 100k data but increasing the number of users (for example, for the Steepest Descent Algorithm you can do this by modifying the variable `nUsersInExample` that was set as 10 before)."
   ]
  },
  {
   "cell_type": "markdown",
   "metadata": {},
   "source": [
    "### Question 8\n",
    "\n",
    "Use stochastic gradient descent to make a movie map for the MovieLens 100k data. Plot the map of the movies when you are finished."
   ]
  },
  {
   "cell_type": "code",
   "execution_count": 18,
   "metadata": {
    "ExecuteTime": {
     "end_time": "2019-11-04T00:02:07.950518Z",
     "start_time": "2019-11-03T23:53:56.188884Z"
    }
   },
   "outputs": [
    {
     "name": "stdout",
     "output_type": "stream",
     "text": [
      "Iteration 0 MSE:  6916.95221823371\n",
      "Iteration 1 MSE:  6916.95139303306\n",
      "Iteration 2 MSE:  6916.950309679161\n",
      "Iteration 3 MSE:  6916.948242984294\n",
      "Iteration 4 MSE:  6916.9436040940545\n",
      "Iteration 5 MSE:  6916.9323695976855\n",
      "Iteration 6 MSE:  6916.904016328554\n",
      "Iteration 7 MSE:  6916.830675555848\n",
      "Iteration 8 MSE:  6916.638021090679\n",
      "Iteration 9 MSE:  6916.126949664197\n",
      "Iteration 10 MSE:  6914.762809597659\n",
      "Iteration 11 MSE:  6911.109809208826\n",
      "Iteration 12 MSE:  6901.329210397622\n",
      "Iteration 13 MSE:  6875.314294858327\n",
      "Iteration 14 MSE:  6807.622428670048\n",
      "Iteration 15 MSE:  6642.046809940581\n",
      "Iteration 16 MSE:  6298.660734864181\n",
      "Iteration 17 MSE:  5827.800613228966\n",
      "Iteration 18 MSE:  5541.380913416142\n",
      "Iteration 19 MSE:  5398.072880408332\n",
      "Iteration 20 MSE:  5278.46832487269\n",
      "Iteration 30 MSE:  3150.552073452333\n",
      "Iteration 31 MSE:  3022.078921420962\n",
      "Iteration 32 MSE:  2910.89922906893\n",
      "Iteration 33 MSE:  2814.2437402124556\n",
      "Iteration 34 MSE:  2730.1108907963576\n",
      "Iteration 35 MSE:  2656.6323495574857\n",
      "Iteration 36 MSE:  2592.0689516028733\n",
      "Iteration 37 MSE:  2534.8515513263264\n",
      "Iteration 38 MSE:  2483.63977024834\n",
      "Iteration 39 MSE:  2437.371380452905\n"
     ]
    }
   ],
   "source": [
    "# %% Prepare datasets\n",
    "import numpy as np\n",
    "import pandas as pd\n",
    "import pods\n",
    "import zipfile\n",
    "import os\n",
    "\n",
    "# Download datasets\n",
    "if 'ml-latest-small.zip' not in os.listdir():\n",
    "    pods.util.download_url(\n",
    "        \"http://files.grouplens.org/datasets/movielens/ml-latest-small.zip\")\n",
    "if 'ml-latest-small' not in os.listdir():\n",
    "    zip_console = zipfile.ZipFile('ml-latest-small.zip', 'r')\n",
    "    for name in zip_console.namelist():\n",
    "        zip_console.extract(name, './')\n",
    "# %% Format datasets\n",
    "\n",
    "\n",
    "def ReadData(data_dir: str) -> pd.core.frame.DataFrame:\n",
    "    return pd.read_csv(data_dir)\n",
    "\n",
    "\n",
    "def GetRandomSample(data, columns='userId', sample_number=10, seed=410) -> np.ndarray:\n",
    "    np.random.seed(seed)\n",
    "    item_uni_list = len(data[columns].unique())\n",
    "    disorder = np.random.permutation(item_uni_list)\n",
    "    return disorder[0:sample_number]\n",
    "\n",
    "\n",
    "# basic parameters\n",
    "studentId = 410\n",
    "sample_number = 50\n",
    "\n",
    "# load data & select user\n",
    "data_dir = \"./ml-latest-small/ratings.csv\"\n",
    "data = ReadData(data_dir).drop('timestamp', axis=1)\n",
    "sample_user = GetRandomSample(data, 'userId', sample_number, studentId)\n",
    "data_sample = data[data['userId'].isin(sample_user)]\n",
    "\n",
    "# Put data into a metrix (movieId x userId)\n",
    "index_movieId = data_sample.movieId.unique()\n",
    "index_movieId.sort()\n",
    "index_userId = sample_user\n",
    "temp = np.full((len(index_movieId), len(index_userId)), np.nan)\n",
    "Y_with_NaNs = pd.DataFrame(temp, index=index_movieId, columns=index_userId)\n",
    "# Copy data\n",
    "for user, movie, rating in iter(data_sample.values):\n",
    "    Y_with_NaNs.loc[movie, user] = rating\n",
    "\n",
    "# Put data into DaraFrame (mean has been subtracted)\n",
    "Y = data_sample.copy()\n",
    "Y['rating_nor'] = Y['rating'] - Y['rating'].mean()\n",
    "\n",
    "# %%\n",
    "\n",
    "\n",
    "def Grad(U, V, Y):\n",
    "    dU = pd.DataFrame(np.zeros((U.shape)), index=U.index)\n",
    "    dV = pd.DataFrame(np.zeros((V.shape)), index=V.index)\n",
    "    loss = 0\n",
    "    for user, movie, _, rating in iter(Y.values):\n",
    "        predict = np.dot(U.loc[user], V.loc[movie])\n",
    "        diff = np.squeeze(predict) - rating\n",
    "        loss += diff * diff\n",
    "        dU.loc[user] += 2 * diff * V.loc[movie]\n",
    "        dV.loc[movie] += 2 * diff * U.loc[user]\n",
    "    return loss, dU, dV\n",
    "\n",
    "\n",
    "# Initialize & set parameters\n",
    "latent_dimension = 2\n",
    "lr = 0.01\n",
    "U = pd.DataFrame(np.random.normal(size=(len(Y_with_NaNs.columns), latent_dimension)),\n",
    "                 index=Y_with_NaNs.columns) * 0.001  # user\n",
    "V = pd.DataFrame(np.random.normal(size=(len(Y_with_NaNs.index), latent_dimension)),\n",
    "                 index=Y_with_NaNs.index) * 0.001  # movies\n",
    "# %% Iteration\n",
    "iterations = 40\n",
    "learn_rate = 0.01\n",
    "for i in range(iterations):\n",
    "    loss, dU, dV = Grad(U, V, Y)\n",
    "    #loss, dU, dV = objective_gradient(Y, U, V)\n",
    "    print(\"Iteration\", i, \"MSE: \", loss)\n",
    "    U -= learn_rate * dU\n",
    "    V -= learn_rate * dV\n",
    "# %%\n",
    "\n",
    "\n",
    "def Prediction(U, V, Y):\n",
    "    Y_without_NaNs = pd.DataFrame(data=np.dot(\n",
    "        U, V.T).T + Y['rating'].mean(), columns=Y_with_NaNs.columns, index=Y_with_NaNs.index)\n",
    "    diff = Y_without_NaNs - Y_with_NaNs\n",
    "    total = diff.fillna(value=0).apply(abs).sum().sum()\n",
    "    return Y_without_NaNs, total\n",
    "\n",
    "\n",
    "prediction, loss = Prediction(U, V, Y)\n"
   ]
  },
  {
   "cell_type": "code",
   "execution_count": null,
   "metadata": {},
   "outputs": [],
   "source": []
  }
 ],
 "metadata": {
  "kernelspec": {
   "display_name": "Python 3",
   "language": "python",
   "name": "python3"
  },
  "language_info": {
   "codemirror_mode": {
    "name": "ipython",
    "version": 3
   },
   "file_extension": ".py",
   "mimetype": "text/x-python",
   "name": "python",
   "nbconvert_exporter": "python",
   "pygments_lexer": "ipython3",
   "version": "3.7.3"
  },
  "latex_envs": {
   "LaTeX_envs_menu_present": true,
   "autoclose": false,
   "autocomplete": true,
   "bibliofile": "biblio.bib",
   "cite_by": "apalike",
   "current_citInitial": 1,
   "eqLabelWithNumbers": true,
   "eqNumInitial": 1,
   "hotkeys": {
    "equation": "Ctrl-E",
    "itemize": "Ctrl-I"
   },
   "labels_anchors": false,
   "latex_user_defs": false,
   "report_style_numbering": false,
   "user_envs_cfg": false
  },
  "toc": {
   "base_numbering": 1,
   "nav_menu": {},
   "number_sections": true,
   "sideBar": true,
   "skip_h1_title": false,
   "title_cell": "Table of Contents",
   "title_sidebar": "Contents",
   "toc_cell": false,
   "toc_position": {},
   "toc_section_display": true,
   "toc_window_display": false
  },
  "varInspector": {
   "cols": {
    "lenName": 16,
    "lenType": 16,
    "lenVar": 40
   },
   "kernels_config": {
    "python": {
     "delete_cmd_postfix": "",
     "delete_cmd_prefix": "del ",
     "library": "var_list.py",
     "varRefreshCmd": "print(var_dic_list())"
    },
    "r": {
     "delete_cmd_postfix": ") ",
     "delete_cmd_prefix": "rm(",
     "library": "var_list.r",
     "varRefreshCmd": "cat(var_dic_list()) "
    }
   },
   "position": {
    "height": "422px",
    "left": "1087px",
    "right": "20px",
    "top": "120px",
    "width": "333px"
   },
   "types_to_exclude": [
    "module",
    "function",
    "builtin_function_or_method",
    "instance",
    "_Feature"
   ],
   "window_display": false
  }
 },
 "nbformat": 4,
 "nbformat_minor": 1
}
